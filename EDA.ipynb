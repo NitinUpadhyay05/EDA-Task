{
 "cells": [
  {
   "cell_type": "code",
   "execution_count": 14,
   "id": "d4a28942",
   "metadata": {},
   "outputs": [
    {
     "name": "stderr",
     "output_type": "stream",
     "text": [
      "[nltk_data] Downloading package stopwords to\n",
      "[nltk_data]     C:\\Users\\nitin\\AppData\\Roaming\\nltk_data...\n",
      "[nltk_data]   Package stopwords is already up-to-date!\n",
      "[nltk_data] Downloading package punkt to\n",
      "[nltk_data]     C:\\Users\\nitin\\AppData\\Roaming\\nltk_data...\n",
      "[nltk_data]   Package punkt is already up-to-date!\n"
     ]
    },
    {
     "data": {
      "text/plain": [
       "True"
      ]
     },
     "execution_count": 14,
     "metadata": {},
     "output_type": "execute_result"
    }
   ],
   "source": [
    "import pandas as pd\n",
    "import matplotlib.pyplot as plt\n",
    "import seaborn as sns\n",
    "from sklearn.feature_extraction.text import CountVectorizer\n",
    "from textblob import TextBlob\n",
    "import nltk\n",
    "from nltk.tokenize import word_tokenize\n",
    "from nltk.corpus import stopwords\n",
    "import gensim\n",
    "from gensim import corpora\n",
    "\n",
    "# Download NLTK resources\n",
    "nltk.download('stopwords')\n",
    "nltk.download('punkt')\n"
   ]
  },
  {
   "cell_type": "code",
   "execution_count": 15,
   "id": "a93b463e",
   "metadata": {},
   "outputs": [
    {
     "data": {
      "text/html": [
       "<div>\n",
       "<style scoped>\n",
       "    .dataframe tbody tr th:only-of-type {\n",
       "        vertical-align: middle;\n",
       "    }\n",
       "\n",
       "    .dataframe tbody tr th {\n",
       "        vertical-align: top;\n",
       "    }\n",
       "\n",
       "    .dataframe thead th {\n",
       "        text-align: right;\n",
       "    }\n",
       "</style>\n",
       "<table border=\"1\" class=\"dataframe\">\n",
       "  <thead>\n",
       "    <tr style=\"text-align: right;\">\n",
       "      <th></th>\n",
       "      <th>timestamp</th>\n",
       "      <th>observed_timestamp</th>\n",
       "      <th>id</th>\n",
       "      <th>trace_id</th>\n",
       "      <th>span_id</th>\n",
       "      <th>trace_flags</th>\n",
       "      <th>severity_text</th>\n",
       "      <th>severity_number</th>\n",
       "      <th>body</th>\n",
       "      <th>resources_string_key</th>\n",
       "      <th>resources_string_value</th>\n",
       "      <th>attributes_string_key</th>\n",
       "      <th>attributes_string_value</th>\n",
       "      <th>attributes_int64_key</th>\n",
       "      <th>attributes_int64_value</th>\n",
       "      <th>attributes_float64_key</th>\n",
       "      <th>attributes_float64_value</th>\n",
       "      <th>attributes_bool_key</th>\n",
       "      <th>attributes_bool_value</th>\n",
       "    </tr>\n",
       "  </thead>\n",
       "  <tbody>\n",
       "    <tr>\n",
       "      <th>8141</th>\n",
       "      <td>1.714740e+18</td>\n",
       "      <td>1.714744e+18</td>\n",
       "      <td>2fxVpIEdOkEKkTsSs1rPt7FDk3Q</td>\n",
       "      <td>NaN</td>\n",
       "      <td>NaN</td>\n",
       "      <td>0</td>\n",
       "      <td>NaN</td>\n",
       "      <td>0</td>\n",
       "      <td>Convert conversion successful</td>\n",
       "      <td>[]</td>\n",
       "      <td>[]</td>\n",
       "      <td>['container_name','container_id']</td>\n",
       "      <td>['currency-service','opsfree']</td>\n",
       "      <td>[]</td>\n",
       "      <td>[]</td>\n",
       "      <td>[]</td>\n",
       "      <td>[]</td>\n",
       "      <td>[]</td>\n",
       "      <td>[]</td>\n",
       "    </tr>\n",
       "    <tr>\n",
       "      <th>9665</th>\n",
       "      <td>1.714740e+18</td>\n",
       "      <td>1.714744e+18</td>\n",
       "      <td>2fxVpIEdOkEKkTsSs1rPt7FDkS0</td>\n",
       "      <td>NaN</td>\n",
       "      <td>NaN</td>\n",
       "      <td>0</td>\n",
       "      <td>NaN</td>\n",
       "      <td>0</td>\n",
       "      <td>Order confirmation email sent to: bill@example...</td>\n",
       "      <td>[]</td>\n",
       "      <td>[]</td>\n",
       "      <td>['container_id','container_name']</td>\n",
       "      <td>['opsfree','email-service']</td>\n",
       "      <td>[]</td>\n",
       "      <td>[]</td>\n",
       "      <td>[]</td>\n",
       "      <td>[]</td>\n",
       "      <td>[]</td>\n",
       "      <td>[]</td>\n",
       "    </tr>\n",
       "    <tr>\n",
       "      <th>9666</th>\n",
       "      <td>1.714740e+18</td>\n",
       "      <td>1.714744e+18</td>\n",
       "      <td>2fxVpIEdOkEKkTsSs1rPt7FDkS1</td>\n",
       "      <td>NaN</td>\n",
       "      <td>NaN</td>\n",
       "      <td>0</td>\n",
       "      <td>NaN</td>\n",
       "      <td>0</td>\n",
       "      <td>{\"message\":\"order confirmation email sent to \\...</td>\n",
       "      <td>[]</td>\n",
       "      <td>[]</td>\n",
       "      <td>['container_name','container_id']</td>\n",
       "      <td>['checkout-service','opsfree']</td>\n",
       "      <td>[]</td>\n",
       "      <td>[]</td>\n",
       "      <td>[]</td>\n",
       "      <td>[]</td>\n",
       "      <td>[]</td>\n",
       "      <td>[]</td>\n",
       "    </tr>\n",
       "    <tr>\n",
       "      <th>9667</th>\n",
       "      <td>1.714740e+18</td>\n",
       "      <td>1.714744e+18</td>\n",
       "      <td>2fxVpIEdOkEKkTsSs1rPt7FDkS2</td>\n",
       "      <td>NaN</td>\n",
       "      <td>NaN</td>\n",
       "      <td>0</td>\n",
       "      <td>NaN</td>\n",
       "      <td>0</td>\n",
       "      <td>172.18.0.27 - - [03/May/2024:13:52:12 +0000] \"...</td>\n",
       "      <td>[]</td>\n",
       "      <td>[]</td>\n",
       "      <td>['container_name','container_id']</td>\n",
       "      <td>['email-service','opsfree']</td>\n",
       "      <td>[]</td>\n",
       "      <td>[]</td>\n",
       "      <td>[]</td>\n",
       "      <td>[]</td>\n",
       "      <td>[]</td>\n",
       "      <td>[]</td>\n",
       "    </tr>\n",
       "    <tr>\n",
       "      <th>9668</th>\n",
       "      <td>1.714740e+18</td>\n",
       "      <td>1.714744e+18</td>\n",
       "      <td>2fxVpIEdOkEKkTsSs1rPt7FDkS3</td>\n",
       "      <td>NaN</td>\n",
       "      <td>NaN</td>\n",
       "      <td>0</td>\n",
       "      <td>NaN</td>\n",
       "      <td>0</td>\n",
       "      <td>{\"message\":\"Successful to write message. offse...</td>\n",
       "      <td>[]</td>\n",
       "      <td>[]</td>\n",
       "      <td>['container_id','container_name']</td>\n",
       "      <td>['opsfree','checkout-service']</td>\n",
       "      <td>[]</td>\n",
       "      <td>[]</td>\n",
       "      <td>[]</td>\n",
       "      <td>[]</td>\n",
       "      <td>[]</td>\n",
       "      <td>[]</td>\n",
       "    </tr>\n",
       "  </tbody>\n",
       "</table>\n",
       "</div>"
      ],
      "text/plain": [
       "         timestamp  observed_timestamp                           id trace_id  \\\n",
       "8141  1.714740e+18        1.714744e+18  2fxVpIEdOkEKkTsSs1rPt7FDk3Q      NaN   \n",
       "9665  1.714740e+18        1.714744e+18  2fxVpIEdOkEKkTsSs1rPt7FDkS0      NaN   \n",
       "9666  1.714740e+18        1.714744e+18  2fxVpIEdOkEKkTsSs1rPt7FDkS1      NaN   \n",
       "9667  1.714740e+18        1.714744e+18  2fxVpIEdOkEKkTsSs1rPt7FDkS2      NaN   \n",
       "9668  1.714740e+18        1.714744e+18  2fxVpIEdOkEKkTsSs1rPt7FDkS3      NaN   \n",
       "\n",
       "     span_id  trace_flags severity_text  severity_number  \\\n",
       "8141     NaN            0           NaN                0   \n",
       "9665     NaN            0           NaN                0   \n",
       "9666     NaN            0           NaN                0   \n",
       "9667     NaN            0           NaN                0   \n",
       "9668     NaN            0           NaN                0   \n",
       "\n",
       "                                                   body resources_string_key  \\\n",
       "8141                      Convert conversion successful                   []   \n",
       "9665  Order confirmation email sent to: bill@example...                   []   \n",
       "9666  {\"message\":\"order confirmation email sent to \\...                   []   \n",
       "9667  172.18.0.27 - - [03/May/2024:13:52:12 +0000] \"...                   []   \n",
       "9668  {\"message\":\"Successful to write message. offse...                   []   \n",
       "\n",
       "     resources_string_value              attributes_string_key  \\\n",
       "8141                     []  ['container_name','container_id']   \n",
       "9665                     []  ['container_id','container_name']   \n",
       "9666                     []  ['container_name','container_id']   \n",
       "9667                     []  ['container_name','container_id']   \n",
       "9668                     []  ['container_id','container_name']   \n",
       "\n",
       "             attributes_string_value attributes_int64_key  \\\n",
       "8141  ['currency-service','opsfree']                   []   \n",
       "9665     ['opsfree','email-service']                   []   \n",
       "9666  ['checkout-service','opsfree']                   []   \n",
       "9667     ['email-service','opsfree']                   []   \n",
       "9668  ['opsfree','checkout-service']                   []   \n",
       "\n",
       "     attributes_int64_value attributes_float64_key attributes_float64_value  \\\n",
       "8141                     []                     []                       []   \n",
       "9665                     []                     []                       []   \n",
       "9666                     []                     []                       []   \n",
       "9667                     []                     []                       []   \n",
       "9668                     []                     []                       []   \n",
       "\n",
       "     attributes_bool_key attributes_bool_value  \n",
       "8141                  []                    []  \n",
       "9665                  []                    []  \n",
       "9666                  []                    []  \n",
       "9667                  []                    []  \n",
       "9668                  []                    []  "
      ]
     },
     "execution_count": 15,
     "metadata": {},
     "output_type": "execute_result"
    }
   ],
   "source": [
    "# Load the data\n",
    "file_path = 'logs - logs.csv'  # Replace with the actual file path\n",
    "data = pd.read_csv(file_path)\n",
    "\n",
    "# Sort data by timestamp\n",
    "data_sorted = data.sort_values(by='timestamp')\n",
    "\n",
    "# Display the first few rows of the sorted data\n",
    "data_sorted.head()\n"
   ]
  },
  {
   "cell_type": "code",
   "execution_count": 16,
   "id": "fb1773ed",
   "metadata": {},
   "outputs": [
    {
     "name": "stdout",
     "output_type": "stream",
     "text": [
      "          timestamp  observed_timestamp    trace_flags  severity_number\n",
      "count  1.349610e+05        1.349610e+05  134961.000000    134961.000000\n",
      "mean   1.714749e+18        1.714747e+18       0.080386         0.725832\n",
      "std    3.074181e+12        1.622896e+12       0.271891         2.455836\n",
      "min    1.714740e+18        1.714740e+18       0.000000         0.000000\n",
      "25%    1.714750e+18        1.714746e+18       0.000000         0.000000\n",
      "50%    1.714750e+18        1.714748e+18       0.000000         0.000000\n",
      "75%    1.714750e+18        1.714748e+18       0.000000         0.000000\n",
      "max    1.714750e+18        1.714750e+18       1.000000        13.000000\n",
      "INFO    10789\n",
      "WARN       66\n",
      "Name: severity_text, dtype: int64\n"
     ]
    },
    {
     "data": {
      "image/png": "[encoded data removed]",
      "text/plain": [
       "<Figure size 1000x600 with 1 Axes>"
      ]
     },
     "metadata": {},
     "output_type": "display_data"
    }
   ],
   "source": [
    "# Summary statistics for numerical columns\n",
    "print(data_sorted.describe())\n",
    "\n",
    "# Distribution of severity levels\n",
    "severity_distribution = data_sorted['severity_text'].value_counts()\n",
    "print(severity_distribution)\n",
    "\n",
    "# Plotting the severity distribution\n",
    "plt.figure(figsize=(10, 6))\n",
    "sns.countplot(data=data_sorted, x='severity_text', order=severity_distribution.index)\n",
    "plt.title('Severity Level Distribution')\n",
    "plt.show()\n"
   ]
  },
  {
   "cell_type": "code",
   "execution_count": 17,
   "id": "9875de32",
   "metadata": {},
   "outputs": [
    {
     "name": "stdout",
     "output_type": "stream",
     "text": [
      "              count\n",
      "2024          51785\n",
      "05            50396\n",
      "info          45015\n",
      "03            40073\n",
      "11ef          37698\n",
      "14            35748\n",
      "userid        32744\n",
      "called        32655\n",
      "0242ac12001d  30900\n",
      "message       29524\n"
     ]
    }
   ],
   "source": [
    "# Extract the body text for NLP analysis\n",
    "body_text = data_sorted['body'].astype(str)\n",
    "\n",
    "# Tokenization and Frequency Analysis\n",
    "vectorizer = CountVectorizer(stop_words='english')\n",
    "body_word_counts = vectorizer.fit_transform(body_text)\n",
    "\n",
    "# Summarize the word counts\n",
    "word_counts = pd.DataFrame(body_word_counts.sum(axis=0), columns=vectorizer.get_feature_names_out(), index=[\"count\"]).T\n",
    "word_counts_sorted = word_counts.sort_values(by=\"count\", ascending=False)\n",
    "\n",
    "# Display the top 10 most frequent words\n",
    "print(word_counts_sorted.head(10))\n"
   ]
  },
  {
   "cell_type": "code",
   "execution_count": 18,
   "id": "90b1ccc7",
   "metadata": {},
   "outputs": [
    {
     "name": "stdout",
     "output_type": "stream",
     "text": [
      "                                                   body  sentiment\n",
      "8141                      Convert conversion successful       0.75\n",
      "9665  Order confirmation email sent to: bill@example...       0.00\n",
      "9666  {\"message\":\"order confirmation email sent to \\...       0.00\n",
      "9667  172.18.0.27 - - [03/May/2024:13:52:12 +0000] \"...       0.00\n",
      "9668  {\"message\":\"Successful to write message. offse...       0.75\n"
     ]
    },
    {
     "data": {
      "image/png": "[encoded data removed]",
      "text/plain": [
       "<Figure size 1000x600 with 1 Axes>"
      ]
     },
     "metadata": {},
     "output_type": "display_data"
    }
   ],
   "source": [
    "# Apply sentiment analysis to the body column, handling non-string values\n",
    "data_sorted['sentiment'] = data_sorted['body'].apply(\n",
    "    lambda x: TextBlob(x).sentiment.polarity if isinstance(x, str) else None\n",
    ")\n",
    "\n",
    "# Display a few rows to check the sentiment analysis\n",
    "print(data_sorted[['body', 'sentiment']].head())\n",
    "\n",
    "# Plotting the sentiment distribution\n",
    "plt.figure(figsize=(10, 6))\n",
    "sns.histplot(data_sorted['sentiment'], bins=50, kde=True)\n",
    "plt.title('Sentiment Polarity Distribution')\n",
    "plt.show()\n"
   ]
  },
  {
   "cell_type": "code",
   "execution_count": 19,
   "id": "4348d98f",
   "metadata": {},
   "outputs": [
    {
     "data": {
      "text/plain": [
       "8141                    [convert, conversion, successful]\n",
       "9665             [order, confirmation, email, sent, bill]\n",
       "9666    [message, order, confirmation, email, sent, bi...\n",
       "9667                                          [post, 200]\n",
       "9668    [message, successful, write, message, offset, ...\n",
       "Name: body, dtype: object"
      ]
     },
     "execution_count": 19,
     "metadata": {},
     "output_type": "execute_result"
    }
   ],
   "source": [
    "# Preprocess the text, handling non-string values\n",
    "stop_words = set(stopwords.words('english'))\n",
    "\n",
    "data_processed = data_sorted['body'].apply(\n",
    "    lambda x: [word for word in word_tokenize(x.lower()) if word.isalnum() and word not in stop_words] if isinstance(x, str) else []\n",
    ")\n",
    "\n",
    "# Display the processed text for the first few rows\n",
    "data_processed.head()\n",
    "\n"
   ]
  },
  {
   "cell_type": "code",
   "execution_count": 20,
   "id": "72a24a37",
   "metadata": {},
   "outputs": [
    {
     "name": "stdout",
     "output_type": "stream",
     "text": [
      "Topic: 0 \n",
      "Words: 0.046*\"address\" + 0.046*\"extensions\" + 0.042*\"cartitem\" + 0.042*\"quantity\" + 0.041*\"info\" + 0.030*\"message\" + 0.024*\"metadata\" + 0.023*\"getquoterequest\" + 0.023*\"request\" + 0.023*\"state\"\n",
      "\n",
      "Topic: 1 \n",
      "Words: 0.135*\"called\" + 0.113*\"getcartasync\" + 0.069*\"info\" + 0.043*\"sent\" + 0.042*\"order\" + 0.042*\"confirmation\" + 0.042*\"email\" + 0.035*\"snapshot\" + 0.033*\"1\" + 0.031*\"ad\"\n",
      "\n",
      "Topic: 2 \n",
      "Words: 0.065*\"message\" + 0.047*\"info\" + 0.043*\"timestamp\" + 0.025*\"offset\" + 0.022*\"pid\" + 0.022*\"orderid\" + 0.022*\"msg\" + 0.022*\"level\" + 0.022*\"614f2cd08e00\" + 0.022*\"hostname\"\n",
      "\n",
      "Topic: 3 \n",
      "Words: 0.052*\"severity\" + 0.052*\"message\" + 0.052*\"timestamp\" + 0.051*\"additemasync\" + 0.050*\"called\" + 0.041*\"info\" + 0.036*\"200\" + 0.035*\"request\" + 0.035*\"post\" + 0.018*\"charge\"\n",
      "\n",
      "Topic: 4 \n",
      "Words: 0.186*\"successful\" + 0.186*\"conversion\" + 0.186*\"convert\" + 0.059*\"info\" + 0.035*\"deleted\" + 0.025*\"snapshot\" + 0.023*\"offset\" + 0.023*\"producer\" + 0.016*\"log\" + 0.015*\"index\"\n",
      "\n"
     ]
    }
   ],
   "source": [
    "# Create a dictionary representation of the documents.\n",
    "dictionary = corpora.Dictionary(data_processed)\n",
    "\n",
    "# Create a corpus: Bag of Words\n",
    "corpus = [dictionary.doc2bow(text) for text in data_processed]\n",
    "\n",
    "# Build LDA model\n",
    "lda_model = gensim.models.LdaModel(corpus, num_topics=5, id2word=dictionary, passes=15)\n",
    "\n",
    "# Print the topics found by the LDA model\n",
    "for idx, topic in lda_model.print_topics(-1):\n",
    "    print(f\"Topic: {idx} \\nWords: {topic}\\n\")"
   ]
  },
  {
   "cell_type": "markdown",
   "id": "4007fe30",
   "metadata": {},
   "source": [
    "Based on the EDA performed, the following approaches are recommended for anomaly detection in the log data:\n",
    "\n",
    "1. **Isolation Forest**: An unsupervised machine learning algorithm effective for high-dimensional data.\n",
    "2. **Autoencoders (Deep Learning)**: Suitable for identifying anomalies by reconstructing input and detecting high reconstruction errors.\n",
    "3. **Time Series Analysis**: For example, the Seasonal Hybrid Extreme Studentized Deviate (S-H-ESD) method, effective for time-series anomaly detection.\n"
   ]
  },
  {
   "cell_type": "code",
   "execution_count": null,
   "id": "3d88856d",
   "metadata": {},
   "outputs": [],
   "source": []
  }
 ],
 "metadata": {
  "kernelspec": {
   "display_name": "Python 3 (ipykernel)",
   "language": "python",
   "name": "python3"
  },
  "language_info": {
   "codemirror_mode": {
    "name": "ipython",
    "version": 3
   },
   "file_extension": ".py",
   "mimetype": "text/x-python",
   "name": "python",
   "nbconvert_exporter": "python",
   "pygments_lexer": "ipython3",
   "version": "3.10.8"
  }
 },
 "nbformat": 4,
 "nbformat_minor": 5
}
